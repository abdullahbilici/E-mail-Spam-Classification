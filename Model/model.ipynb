{
 "cells": [
  {
   "cell_type": "markdown",
   "metadata": {},
   "source": [
    "### Import necessary files"
   ]
  },
  {
   "cell_type": "code",
   "execution_count": 11,
   "metadata": {},
   "outputs": [
    {
     "name": "stdout",
     "output_type": "stream",
     "text": [
      "The autoreload extension is already loaded. To reload it, use:\n",
      "  %reload_ext autoreload\n"
     ]
    }
   ],
   "source": [
    "import numpy as np\n",
    "import pandas as pd\n",
    "\n",
    "import zipfile\n",
    "import os\n",
    "\n",
    "from dataloader import DataLoader\n",
    "\n",
    "%load_ext autoreload\n",
    "%autoreload 2"
   ]
  },
  {
   "cell_type": "markdown",
   "metadata": {},
   "source": [
    "### Read Data"
   ]
  },
  {
   "cell_type": "code",
   "execution_count": 6,
   "metadata": {},
   "outputs": [],
   "source": [
    "file_path = \"../Data/data\"\n",
    "\n",
    "# Unzip the zip file\n",
    "with zipfile.ZipFile(file_path + \".zip\", 'r') as zip_ref:\n",
    "    zip_ref.extractall(file_path)\n"
   ]
  },
  {
   "cell_type": "code",
   "execution_count": 12,
   "metadata": {},
   "outputs": [],
   "source": [
    "# This data loaders will help us to handle huge data\n",
    "train_data = DataLoader(\"../Data/data/data_train.npy\", shuffle= True, batch_size=64)\n",
    "test_data = DataLoader(\"../Data/data/data_test.npy\", shuffle = False)\n",
    "validation_data = DataLoader(\"../Data/data/data_validation.npy\", shuffle = False)"
   ]
  },
  {
   "cell_type": "code",
   "execution_count": 4,
   "metadata": {},
   "outputs": [],
   "source": [
    "# Remove unnecessary files and folders\n",
    "os.remove(\"../Data/data/data.npy\")\n",
    "os.remove(\"../Data/data/data_train.npy\")\n",
    "os.remove(\"../Data/data/data_test.npy\")\n",
    "os.remove(\"../Data/data/data_validation.npy\")\n",
    "os.rmdir(\"../Data/data/\")"
   ]
  },
  {
   "cell_type": "code",
   "execution_count": 7,
   "metadata": {},
   "outputs": [
    {
     "data": {
      "text/plain": [
       "Data with shape of (3436, 16908), shuffle = True, batch_size = 64"
      ]
     },
     "execution_count": 7,
     "metadata": {},
     "output_type": "execute_result"
    }
   ],
   "source": [
    "train_data"
   ]
  }
 ],
 "metadata": {
  "kernelspec": {
   "display_name": "Python 3",
   "language": "python",
   "name": "python3"
  },
  "language_info": {
   "codemirror_mode": {
    "name": "ipython",
    "version": 3
   },
   "file_extension": ".py",
   "mimetype": "text/x-python",
   "name": "python",
   "nbconvert_exporter": "python",
   "pygments_lexer": "ipython3",
   "version": "3.11.6"
  }
 },
 "nbformat": 4,
 "nbformat_minor": 2
}
