{
 "cells": [
  {
   "cell_type": "markdown",
   "metadata": {},
   "source": [
    "# E-Mail Spam Classification\n",
    "## YZV 311E Term Project\n",
    "\n",
    "Abdullah Bilici, 150200330\n",
    "\n",
    "Bora Boyacıoğlu, 150200310"
   ]
  },
  {
   "cell_type": "markdown",
   "metadata": {},
   "source": [
    "Import the necessary libraries."
   ]
  },
  {
   "cell_type": "code",
   "execution_count": 1,
   "metadata": {},
   "outputs": [
    {
     "ename": "ModuleNotFoundError",
     "evalue": "No module named 'torch'",
     "output_type": "error",
     "traceback": [
      "\u001b[0;31m---------------------------------------------------------------------------\u001b[0m",
      "\u001b[0;31mModuleNotFoundError\u001b[0m                       Traceback (most recent call last)",
      "Cell \u001b[0;32mIn[1], line 2\u001b[0m\n\u001b[1;32m      1\u001b[0m \u001b[38;5;28;01mimport\u001b[39;00m \u001b[38;5;21;01mnumpy\u001b[39;00m \u001b[38;5;28;01mas\u001b[39;00m \u001b[38;5;21;01mnp\u001b[39;00m\n\u001b[0;32m----> 2\u001b[0m \u001b[38;5;28;01mimport\u001b[39;00m \u001b[38;5;21;01mtorch\u001b[39;00m\n\u001b[1;32m      3\u001b[0m \u001b[38;5;28;01mfrom\u001b[39;00m \u001b[38;5;21;01mtorch\u001b[39;00m \u001b[38;5;28;01mimport\u001b[39;00m nn, optim \n\u001b[1;32m      4\u001b[0m \u001b[38;5;28;01mfrom\u001b[39;00m \u001b[38;5;21;01mtorch\u001b[39;00m\u001b[38;5;21;01m.\u001b[39;00m\u001b[38;5;21;01mnn\u001b[39;00m \u001b[38;5;28;01mimport\u001b[39;00m functional \u001b[38;5;28;01mas\u001b[39;00m F\n",
      "\u001b[0;31mModuleNotFoundError\u001b[0m: No module named 'torch'"
     ]
    }
   ],
   "source": [
    "import numpy as np\n",
    "import torch\n",
    "from torch import nn, optim \n",
    "from torch.nn import functional as F\n",
    "\n",
    "from dataloader import DataLoader"
   ]
  },
  {
   "cell_type": "markdown",
   "metadata": {},
   "source": [
    "## Load Data"
   ]
  },
  {
   "cell_type": "code",
   "execution_count": null,
   "metadata": {},
   "outputs": [],
   "source": [
    "# Load the\n",
    "data = np.load(\"../Data/bert_representations.npy\")\n",
    "\n",
    "data = torch.tensor(data)"
   ]
  },
  {
   "cell_type": "code",
   "execution_count": null,
   "metadata": {},
   "outputs": [],
   "source": [
    "# Create dataloaders so we can use it easily\n",
    "train_loader = DataLoader([data[:3000, :-1].to(torch.float), data[:3000, -1]], shuffle=True, batch_size=64)\n",
    "test_loader = DataLoader([data[3000:4000, :-1].to(torch.float), data[3000:4000, -1]])\n",
    "validation_loader = DataLoader([data[4000:, : -1].to(torch.float), data[4000:, -1]])"
   ]
  },
  {
   "cell_type": "markdown",
   "metadata": {},
   "source": [
    "## Creating a model"
   ]
  },
  {
   "cell_type": "code",
   "execution_count": null,
   "metadata": {},
   "outputs": [],
   "source": [
    "# Simple fully connected neural network\n",
    "class FCNN(nn.Module):\n",
    "    def __init__(self, input_shape, output_dim):\n",
    "        super(FCNN, self).__init__()\n",
    "\n",
    "        self.fc1 = nn.Linear(input_shape, 1024)\n",
    "        self.fc2 = nn.Linear(1024, 256)\n",
    "        self.fc3 = nn.Linear(256, 32)\n",
    "        self.fc4 = nn.Linear(32, output_dim)\n",
    "    \n",
    "    def forward(self, x):\n",
    "        x = F.relu(self.fc1(x))\n",
    "        x = F.relu(self.fc2(x))\n",
    "        x = F.relu(self.fc3(x))\n",
    "        x = self.fc4(x)\n",
    "\n",
    "        return x\n"
   ]
  },
  {
   "cell_type": "code",
   "execution_count": null,
   "metadata": {},
   "outputs": [],
   "source": [
    "N, input_shape = train_loader.shape\n",
    "\n",
    "net = FCNN(input_shape, 2)"
   ]
  },
  {
   "cell_type": "markdown",
   "metadata": {},
   "source": [
    "## Training the model"
   ]
  },
  {
   "cell_type": "code",
   "execution_count": null,
   "metadata": {},
   "outputs": [],
   "source": [
    "def test(net, test_loader, criterion, device, verbose = True):\n",
    "    # We dont want to store gradients during forward pass\n",
    "    with torch.no_grad():\n",
    "\n",
    "        # Extracting the data and targets\n",
    "        data, target = test_loader.X, test_loader.y\n",
    "        data.to(device)\n",
    "        target.to(device)\n",
    "        \n",
    "        # Model makes predictions\n",
    "        target_pred = net(data)\n",
    "        \n",
    "        # Test loss\n",
    "        test_loss = criterion(target_pred, target.to(torch.long)) / test_loader.size\n",
    "\n",
    "        # Predicted values to caluclate accuracy\n",
    "        target_predicted = torch.argmax(target_pred, axis = 1)\n",
    "\n",
    "        # Calculating the accuracy\n",
    "        test_accuracy = (target_predicted == target).sum() / test_loader.size\n",
    "    \n",
    "    if verbose:\n",
    "        print(\"Test results: \\n\")\n",
    "\n",
    "        print(f\"Test loss: {test_loss:.4f}, Test accuracy: {test_accuracy:.4f}\") \n",
    "\n",
    "    return target_predicted"
   ]
  },
  {
   "cell_type": "code",
   "execution_count": null,
   "metadata": {},
   "outputs": [],
   "source": [
    "# Setting hyperparameters\n",
    "epochs = 10\n",
    "lr = 1e-3\n",
    "\n",
    "# Setting device to cuda if it is available\n",
    "device = \"cuda\" if torch.cuda.is_available() else \"cpu\"\n",
    "\n",
    "# Adam for optimizer\n",
    "optimizer = optim.Adam(net.parameters(), lr = lr)\n",
    "# Cross entropy loss for loss function\n",
    "criterion = nn.CrossEntropyLoss(reduction=\"sum\")\n"
   ]
  },
  {
   "cell_type": "markdown",
   "metadata": {},
   "source": [
    "### Train loop"
   ]
  },
  {
   "cell_type": "code",
   "execution_count": null,
   "metadata": {},
   "outputs": [
    {
     "name": "stdout",
     "output_type": "stream",
     "text": [
      "Training starting...\n",
      "Epoch: 1, Training loss: 0.3218, Validation loss: 0.1050, Validation accuracy: 0.9549\n",
      "Epoch: 2, Training loss: 0.0969, Validation loss: 0.0692, Validation accuracy: 0.9705\n",
      "Epoch: 3, Training loss: 0.0540, Validation loss: 0.0534, Validation accuracy: 0.9809\n",
      "Epoch: 4, Training loss: 0.0530, Validation loss: 0.0661, Validation accuracy: 0.9740\n",
      "Epoch: 5, Training loss: 0.0319, Validation loss: 0.0441, Validation accuracy: 0.9821\n",
      "Epoch: 6, Training loss: 0.0288, Validation loss: 0.1389, Validation accuracy: 0.9520\n",
      "Epoch: 7, Training loss: 0.0552, Validation loss: 0.0536, Validation accuracy: 0.9826\n",
      "Epoch: 8, Training loss: 0.0319, Validation loss: 0.0433, Validation accuracy: 0.9850\n",
      "Epoch: 9, Training loss: 0.0189, Validation loss: 0.0637, Validation accuracy: 0.9792\n",
      "Epoch: 10, Training loss: 0.0226, Validation loss: 0.0484, Validation accuracy: 0.9844\n",
      "Training ends.\n"
     ]
    }
   ],
   "source": [
    "train_losses = list()\n",
    "validation_losses = list()\n",
    "\n",
    "print(\"Training starting...\")\n",
    "for epoch in range(epochs):\n",
    "\n",
    "    running_loss = .0\n",
    "\n",
    "    for X_train, y_train in train_loader:\n",
    "        X_train.to(device)\n",
    "        y_train.to(device)\n",
    "\n",
    "        # Forward pass\n",
    "        y_pred = net(X_train)\n",
    "        \n",
    "        loss = criterion(y_pred, y_train.to(torch.long))\n",
    "\n",
    "        # Zeros the past gradients\n",
    "        optimizer.zero_grad()\n",
    "        # Recalculates gradients\n",
    "        loss.backward()\n",
    "        # Updates weights\n",
    "        optimizer.step()\n",
    "\n",
    "        running_loss += loss.item()\n",
    "\n",
    "    running_loss /= train_loader.size\n",
    "\n",
    "    train_losses.append(running_loss)\n",
    "\n",
    "\n",
    "    # Calculates validation loss and accuracy \n",
    "    with torch.no_grad():\n",
    "\n",
    "        X_val, y_val = validation_loader.X, validation_loader.y\n",
    "\n",
    "        y_val_pred = net(X_val)\n",
    "\n",
    "        val_loss = criterion(y_val_pred, y_val.to(torch.long)) / validation_loader.size\n",
    "\n",
    "        y_val_predicted = torch.max(y_val_pred, axis = 1).indices\n",
    "\n",
    "        val_accuracy = (y_val_predicted == y_val).sum() / validation_loader.size\n",
    "\n",
    "    validation_losses.append(val_loss)\n",
    "\n",
    "    if epoch % 1 == 0:\n",
    "\n",
    "        print(f\"Epoch: {epoch+1}, Training loss: {running_loss:.4f}, Validation loss: {val_loss:.4f}, Validation accuracy: {val_accuracy:.4f}\")\n",
    "print(\"Training ends.\")"
   ]
  },
  {
   "cell_type": "markdown",
   "metadata": {},
   "source": [
    "## Model Evaluation"
   ]
  },
  {
   "cell_type": "code",
   "execution_count": null,
   "metadata": {},
   "outputs": [
    {
     "name": "stdout",
     "output_type": "stream",
     "text": [
      "Test results: \n",
      "\n",
      "Test loss: 0.0618, Test accuracy: 0.9770\n"
     ]
    }
   ],
   "source": [
    "val_preds = test(net, validation_loader, criterion, device, verbose = 0)\n",
    "test_preds = test(net, test_loader, criterion, device)"
   ]
  },
  {
   "cell_type": "code",
   "execution_count": null,
   "metadata": {},
   "outputs": [
    {
     "name": "stdout",
     "output_type": "stream",
     "text": [
      "Validation Results:\n",
      "\u001b[4mConfusion Matrix:\u001b[0m\n",
      "[[TP: \u001b[91m394\u001b[0m\tFP: \u001b[91m15\u001b[0m\t]\n",
      " [FN: \u001b[91m12\u001b[0m\tTN: \u001b[91m1307\u001b[0m\t]]\n",
      "\n",
      "\u001b[4mClassification Report:\u001b[0m\n",
      "Accuracy : \u001b[91m0.9844\u001b[0m\n",
      "Precision: \u001b[91m0.9633\u001b[0m\n",
      "Recall   : \u001b[91m0.9704\u001b[0m\n",
      "F1 Score : \u001b[91m0.9669\u001b[0m\n",
      "\n",
      "Test Results:\n",
      "\u001b[4mConfusion Matrix:\u001b[0m\n",
      "[[TP: \u001b[91m226\u001b[0m\tFP: \u001b[91m16\u001b[0m\t]\n",
      " [FN: \u001b[91m7\u001b[0m\tTN: \u001b[91m751\u001b[0m\t]]\n",
      "\n",
      "\u001b[4mClassification Report:\u001b[0m\n",
      "Accuracy : \u001b[91m0.9770\u001b[0m\n",
      "Precision: \u001b[91m0.9339\u001b[0m\n",
      "Recall   : \u001b[91m0.9700\u001b[0m\n",
      "F1 Score : \u001b[91m0.9516\u001b[0m\n",
      "\n"
     ]
    }
   ],
   "source": [
    "from utils import evaluate_model\n",
    "\n",
    "# Evaluate on validation set\n",
    "print(\"Validation Results:\")\n",
    "evaluate_model(validation_loader.y, val_preds)\n",
    "\n",
    "\n",
    "# Evaluate on test set\n",
    "print(\"Test Results:\")\n",
    "evaluate_model(test_loader.y, test_preds)"
   ]
  },
  {
   "cell_type": "markdown",
   "metadata": {},
   "source": [
    "## Save the model"
   ]
  },
  {
   "cell_type": "code",
   "execution_count": null,
   "metadata": {},
   "outputs": [],
   "source": [
    "torch.save(net, \"models/FCNN_1\")"
   ]
  }
 ],
 "metadata": {
  "kernelspec": {
   "display_name": "Python 3",
   "language": "python",
   "name": "python3"
  },
  "language_info": {
   "codemirror_mode": {
    "name": "ipython",
    "version": 3
   },
   "file_extension": ".py",
   "mimetype": "text/x-python",
   "name": "python",
   "nbconvert_exporter": "python",
   "pygments_lexer": "ipython3",
   "version": "3.12.1"
  }
 },
 "nbformat": 4,
 "nbformat_minor": 2
}
