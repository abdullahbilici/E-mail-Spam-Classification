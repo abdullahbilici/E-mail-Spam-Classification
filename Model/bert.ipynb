{
 "cells": [
  {
   "cell_type": "markdown",
   "metadata": {},
   "source": [
    "# E-Mail Spam Classification\n",
    "## YZV 311E Term Project\n",
    "\n",
    "Abdullah Bilici, 150200330\n",
    "\n",
    "Bora Boyacıoğlu, 150200310"
   ]
  },
  {
   "cell_type": "markdown",
   "metadata": {},
   "source": [
    "Import the necessary libraries."
   ]
  },
  {
   "cell_type": "code",
   "execution_count": 3,
   "metadata": {},
   "outputs": [],
   "source": [
    "import numpy as np\n",
    "import torch\n",
    "from torch import nn, optim \n",
    "from torch.nn import functional as F\n",
    "\n",
    "from dataloader import DataLoader\n"
   ]
  },
  {
   "cell_type": "markdown",
   "metadata": {},
   "source": [
    " ## Load Data"
   ]
  },
  {
   "cell_type": "code",
   "execution_count": 14,
   "metadata": {},
   "outputs": [],
   "source": [
    "# Load the\n",
    "data = np.load(\"../Data/bert_representations.npy\")\n",
    "\n",
    "data = torch.tensor(data)"
   ]
  },
  {
   "cell_type": "code",
   "execution_count": 15,
   "metadata": {},
   "outputs": [],
   "source": [
    "# Create dataloaders so we can use it easily\n",
    "train_loader = DataLoader([data[:3000, :-1].to(torch.float), data[:3000, -1]], shuffle=True, batch_size=64)\n",
    "test_loader = DataLoader([data[3000:4000, :-1].to(torch.float), data[3000:4000, -1]])\n",
    "validation_loader = DataLoader([data[4000:, : -1].to(torch.float), data[4000:, -1]])"
   ]
  },
  {
   "cell_type": "code",
   "execution_count": null,
   "metadata": {},
   "outputs": [],
   "source": []
  }
 ],
 "metadata": {
  "kernelspec": {
   "display_name": "Python 3",
   "language": "python",
   "name": "python3"
  },
  "language_info": {
   "codemirror_mode": {
    "name": "ipython",
    "version": 3
   },
   "file_extension": ".py",
   "mimetype": "text/x-python",
   "name": "python",
   "nbconvert_exporter": "python",
   "pygments_lexer": "ipython3",
   "version": "3.11.6"
  }
 },
 "nbformat": 4,
 "nbformat_minor": 2
}
