{
 "cells": [
  {
   "cell_type": "markdown",
   "metadata": {},
   "source": [
    "# E-Mail Spam Classification\n",
    "## YZV 311E Term Project\n",
    "\n",
    "Abdullah Bilici, 150200330\n",
    "\n",
    "Bora Boyacıoğlu, 150200310"
   ]
  },
  {
   "cell_type": "markdown",
   "metadata": {},
   "source": [
    "Import the necessary libraries."
   ]
  },
  {
   "cell_type": "code",
   "execution_count": 1,
   "metadata": {},
   "outputs": [],
   "source": [
    "import numpy as np\n",
    "import torch\n",
    "from torch import nn, optim \n",
    "from torch.nn import functional as F\n",
    "\n",
    "from dataloader import DataLoader"
   ]
  },
  {
   "cell_type": "markdown",
   "metadata": {},
   "source": [
    "## Load Data"
   ]
  },
  {
   "cell_type": "code",
   "execution_count": 2,
   "metadata": {},
   "outputs": [],
   "source": [
    "# Load the data\n",
    "data = np.load(\"../Data/bert_representations.npy\")\n",
    "\n",
    "data = torch.tensor(data)"
   ]
  },
  {
   "cell_type": "code",
   "execution_count": 3,
   "metadata": {},
   "outputs": [],
   "source": [
    "# Create dataloaders so we can use it easily\n",
    "train_loader = DataLoader([data[:3000, :-1].to(torch.float), data[:3000, -1]], shuffle=True, batch_size=64)\n",
    "test_loader = DataLoader([data[3000:4000, :-1].to(torch.float), data[3000:4000, -1]])\n",
    "validation_loader = DataLoader([data[4000:, : -1].to(torch.float), data[4000:, -1]])"
   ]
  },
  {
   "cell_type": "markdown",
   "metadata": {},
   "source": [
    "## Creating a model"
   ]
  },
  {
   "cell_type": "code",
   "execution_count": 4,
   "metadata": {},
   "outputs": [],
   "source": [
    "# Simple fully connected neural network\n",
    "class FCNN(nn.Module):\n",
    "    def __init__(self, input_shape, output_dim):\n",
    "        super(FCNN, self).__init__()\n",
    "\n",
    "        self.fc1 = nn.Linear(input_shape, 2048)\n",
    "        self.fc2 = nn.Linear(2048, 512)\n",
    "        self.fc3 = nn.Linear(512, 128)\n",
    "        self.fc4 = nn.Linear(128, 32)\n",
    "        self.fc5 = nn.Linear(32, output_dim)\n",
    "    \n",
    "    def forward(self, x):\n",
    "        x = F.relu(self.fc1(x))\n",
    "        x = F.relu(self.fc2(x))\n",
    "        x = F.relu(self.fc3(x))\n",
    "        x = F.relu(self.fc4(x))\n",
    "        x = self.fc5(x)\n",
    "\n",
    "        return x\n"
   ]
  },
  {
   "cell_type": "code",
   "execution_count": 5,
   "metadata": {},
   "outputs": [],
   "source": [
    "N, input_shape = train_loader.shape\n",
    "\n",
    "net = FCNN(input_shape, 2)"
   ]
  },
  {
   "cell_type": "markdown",
   "metadata": {},
   "source": [
    "## Training the model"
   ]
  },
  {
   "cell_type": "code",
   "execution_count": 6,
   "metadata": {},
   "outputs": [],
   "source": [
    "def test(net, test_loader, criterion, device, verbose=True):\n",
    "    # We do not want to store gradients during forward pass\n",
    "    with torch.no_grad():\n",
    "\n",
    "        # Extracting the data and targets\n",
    "        data, target = test_loader.X, test_loader.y\n",
    "        data.to(device)\n",
    "        target.to(device)\n",
    "        \n",
    "        # Model makes predictions\n",
    "        target_pred = net(data)\n",
    "        \n",
    "        # Test loss\n",
    "        test_loss = criterion(target_pred, target.to(torch.long)) / test_loader.size\n",
    "\n",
    "        # Predicted values to caluclate accuracy\n",
    "        target_predicted = torch.argmax(target_pred, axis = 1)\n",
    "\n",
    "        # Calculating the accuracy\n",
    "        test_accuracy = (target_predicted == target).sum() / test_loader.size\n",
    "    \n",
    "    if verbose:\n",
    "        print(\"Test results: \\n\")\n",
    "\n",
    "        print(f\"Test loss: {test_loss:.4f}, Test accuracy: {test_accuracy:.4f}\") \n",
    "\n",
    "    return target_predicted"
   ]
  },
  {
   "cell_type": "code",
   "execution_count": 7,
   "metadata": {},
   "outputs": [
    {
     "name": "stdout",
     "output_type": "stream",
     "text": [
      "Using cpu device\n"
     ]
    },
    {
     "name": "stderr",
     "output_type": "stream",
     "text": [
      "/home/wndpzr/.local/lib/python3.10/site-packages/tqdm/auto.py:21: TqdmWarning: IProgress not found. Please update jupyter and ipywidgets. See https://ipywidgets.readthedocs.io/en/stable/user_install.html\n",
      "  from .autonotebook import tqdm as notebook_tqdm\n"
     ]
    }
   ],
   "source": [
    "# Setting hyperparameters\n",
    "epochs = 20\n",
    "lr = 2*1e-4\n",
    "\n",
    "# Setting device to cuda if it is available\n",
    "device = \"cuda\" if torch.cuda.is_available() else \"cpu\"\n",
    "\n",
    "print(f\"Using {device} device\")\n",
    "\n",
    "# Adam for optimizer\n",
    "optimizer = optim.Adam(net.parameters(), lr=lr)\n",
    "\n",
    "# Cross entropy loss for loss function\n",
    "criterion = nn.CrossEntropyLoss(reduction=\"sum\")"
   ]
  },
  {
   "cell_type": "markdown",
   "metadata": {},
   "source": [
    "### Train loop"
   ]
  },
  {
   "cell_type": "code",
   "execution_count": 8,
   "metadata": {},
   "outputs": [
    {
     "name": "stdout",
     "output_type": "stream",
     "text": [
      "Training starting...\n",
      "Epoch: 1/20,\tTraining loss: 0.4251,\tValidation loss: 0.2309,\tValidation accuracy: 0.9334\n",
      "Epoch: 2/20,\tTraining loss: 0.1357,\tValidation loss: 0.0952,\tValidation accuracy: 0.9612\n",
      "Epoch: 3/20,\tTraining loss: 0.0771,\tValidation loss: 0.0633,\tValidation accuracy: 0.9757\n",
      "Epoch: 4/20,\tTraining loss: 0.0472,\tValidation loss: 0.0603,\tValidation accuracy: 0.9774\n",
      "Epoch: 5/20,\tTraining loss: 0.0499,\tValidation loss: 0.0576,\tValidation accuracy: 0.9780\n",
      "Epoch: 6/20,\tTraining loss: 0.0327,\tValidation loss: 0.0582,\tValidation accuracy: 0.9803\n",
      "Epoch: 7/20,\tTraining loss: 0.0320,\tValidation loss: 0.1087,\tValidation accuracy: 0.9606\n",
      "Epoch: 8/20,\tTraining loss: 0.0297,\tValidation loss: 0.0550,\tValidation accuracy: 0.9826\n",
      "Epoch: 9/20,\tTraining loss: 0.0200,\tValidation loss: 0.0474,\tValidation accuracy: 0.9815\n",
      "Epoch: 10/20,\tTraining loss: 0.0101,\tValidation loss: 0.0617,\tValidation accuracy: 0.9809\n",
      "Epoch: 11/20,\tTraining loss: 0.0097,\tValidation loss: 0.0669,\tValidation accuracy: 0.9797\n",
      "Epoch: 12/20,\tTraining loss: 0.0102,\tValidation loss: 0.0633,\tValidation accuracy: 0.9769\n",
      "Epoch: 13/20,\tTraining loss: 0.0070,\tValidation loss: 0.0558,\tValidation accuracy: 0.9821\n",
      "Epoch: 14/20,\tTraining loss: 0.0023,\tValidation loss: 0.0719,\tValidation accuracy: 0.9826\n",
      "Epoch: 15/20,\tTraining loss: 0.0015,\tValidation loss: 0.0566,\tValidation accuracy: 0.9850\n",
      "Epoch: 16/20,\tTraining loss: 0.0010,\tValidation loss: 0.0674,\tValidation accuracy: 0.9832\n",
      "Epoch: 17/20,\tTraining loss: 0.0005,\tValidation loss: 0.0621,\tValidation accuracy: 0.9838\n",
      "Epoch: 18/20,\tTraining loss: 0.0004,\tValidation loss: 0.0642,\tValidation accuracy: 0.9832\n",
      "Epoch: 19/20,\tTraining loss: 0.0003,\tValidation loss: 0.0654,\tValidation accuracy: 0.9838\n",
      "Epoch: 20/20,\tTraining loss: 0.0002,\tValidation loss: 0.0667,\tValidation accuracy: 0.9838\n",
      "Training ends.\n"
     ]
    }
   ],
   "source": [
    "train_losses = list()\n",
    "validation_losses = list()\n",
    "\n",
    "print(\"Training starting...\")\n",
    "for epoch in range(epochs):\n",
    "\n",
    "    running_loss = .0\n",
    "\n",
    "    for X_train, y_train in train_loader:\n",
    "        X_train.to(device)\n",
    "        y_train.to(device)\n",
    "\n",
    "        # Forward pass\n",
    "        y_pred = net(X_train)\n",
    "        \n",
    "        loss = criterion(y_pred, y_train.to(torch.long))\n",
    "\n",
    "        # Zeros the past gradients\n",
    "        optimizer.zero_grad()\n",
    "        # Recalculates gradients\n",
    "        loss.backward()\n",
    "        # Updates weights\n",
    "        optimizer.step()\n",
    "\n",
    "        running_loss += loss.item()\n",
    "\n",
    "    running_loss /= train_loader.size\n",
    "\n",
    "    train_losses.append(running_loss)\n",
    "\n",
    "\n",
    "    # Calculates validation loss and accuracy \n",
    "    with torch.no_grad():\n",
    "\n",
    "        X_val, y_val = validation_loader.X, validation_loader.y\n",
    "\n",
    "        y_val_pred = net(X_val)\n",
    "\n",
    "        val_loss = criterion(y_val_pred, y_val.to(torch.long)) / validation_loader.size\n",
    "\n",
    "        y_val_predicted = torch.max(y_val_pred, axis = 1).indices\n",
    "\n",
    "        val_accuracy = (y_val_predicted == y_val).sum() / validation_loader.size\n",
    "\n",
    "    validation_losses.append(val_loss)\n",
    "\n",
    "    if epoch % 1 == 0:\n",
    "\n",
    "        print(f\"Epoch: {epoch+1}/{epochs},\\tTraining loss: {running_loss:.4f},\\tValidation loss: {val_loss:.4f},\\tValidation accuracy: {val_accuracy:.4f}\")\n",
    "print(\"Training ends.\")"
   ]
  },
  {
   "cell_type": "markdown",
   "metadata": {},
   "source": [
    "## Model Evaluation"
   ]
  },
  {
   "cell_type": "code",
   "execution_count": 9,
   "metadata": {},
   "outputs": [
    {
     "name": "stdout",
     "output_type": "stream",
     "text": [
      "Test results: \n",
      "\n",
      "Test loss: 0.0697, Test accuracy: 0.9790\n"
     ]
    }
   ],
   "source": [
    "val_preds = test(net, validation_loader, criterion, device, verbose = 0)\n",
    "test_preds = test(net, test_loader, criterion, device)"
   ]
  },
  {
   "cell_type": "code",
   "execution_count": 10,
   "metadata": {},
   "outputs": [
    {
     "name": "stdout",
     "output_type": "stream",
     "text": [
      "Validation Results:\n",
      "\u001b[4mConfusion Matrix:\u001b[0m\n",
      "[[TP: \u001b[91m388\u001b[0m\tFP: \u001b[91m10\u001b[0m\t]\n",
      " [FN: \u001b[91m18\u001b[0m\tTN: \u001b[91m1312\u001b[0m\t]]\n",
      "\n",
      "\u001b[4mClassification Report:\u001b[0m\n",
      "Accuracy : \u001b[91m0.9838\u001b[0m\n",
      "Precision: \u001b[91m0.9749\u001b[0m\n",
      "Recall   : \u001b[91m0.9557\u001b[0m\n",
      "F1 Score : \u001b[91m0.9652\u001b[0m\n",
      "\n",
      "Test Results:\n",
      "\u001b[4mConfusion Matrix:\u001b[0m\n",
      "[[TP: \u001b[91m220\u001b[0m\tFP: \u001b[91m8\u001b[0m\t]\n",
      " [FN: \u001b[91m13\u001b[0m\tTN: \u001b[91m759\u001b[0m\t]]\n",
      "\n",
      "\u001b[4mClassification Report:\u001b[0m\n",
      "Accuracy : \u001b[91m0.9790\u001b[0m\n",
      "Precision: \u001b[91m0.9649\u001b[0m\n",
      "Recall   : \u001b[91m0.9442\u001b[0m\n",
      "F1 Score : \u001b[91m0.9544\u001b[0m\n",
      "\n"
     ]
    }
   ],
   "source": [
    "from utils import evaluate_model\n",
    "\n",
    "# Evaluate on validation set\n",
    "print(\"Validation Results:\")\n",
    "evaluate_model(validation_loader.y, val_preds)\n",
    "\n",
    "\n",
    "# Evaluate on test set\n",
    "print(\"Test Results:\")\n",
    "evaluate_model(test_loader.y, test_preds)"
   ]
  },
  {
   "cell_type": "markdown",
   "metadata": {},
   "source": [
    "## Save the model"
   ]
  },
  {
   "cell_type": "code",
   "execution_count": 11,
   "metadata": {},
   "outputs": [],
   "source": [
    "torch.save(net, \"models/FCNN_1\")"
   ]
  },
  {
   "cell_type": "markdown",
   "metadata": {},
   "source": [
    "## Comments\n",
    "\n",
    "The results we got are pretty high. They are around the same as the **Random Forest** model from our default models *(from model.ipynb)*, but slightly higher."
   ]
  }
 ],
 "metadata": {
  "kernelspec": {
   "display_name": "Python 3",
   "language": "python",
   "name": "python3"
  },
  "language_info": {
   "codemirror_mode": {
    "name": "ipython",
    "version": 3
   },
   "file_extension": ".py",
   "mimetype": "text/x-python",
   "name": "python",
   "nbconvert_exporter": "python",
   "pygments_lexer": "ipython3",
   "version": "3.10.12"
  }
 },
 "nbformat": 4,
 "nbformat_minor": 2
}
