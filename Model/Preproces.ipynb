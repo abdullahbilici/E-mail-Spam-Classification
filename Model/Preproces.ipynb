{
 "cells": [
  {
   "cell_type": "markdown",
   "metadata": {},
   "source": [
    "# E-Mail Spam Classification\n",
    "## YZV 311E Term Project\n",
    "\n",
    "Abdullah Bilici, 150200330\n",
    "\n",
    "Bora Boyacıoğlu, 150200310"
   ]
  },
  {
   "cell_type": "markdown",
   "metadata": {},
   "source": [
    "Import the necessary libraries."
   ]
  },
  {
   "cell_type": "code",
   "execution_count": 27,
   "metadata": {},
   "outputs": [],
   "source": [
    "import pandas as pd\n",
    "import numpy as np\n",
    "from utils import tokenize_sentence, term_frequency, inverse_document_frequency, tfidf_calculator\n",
    "\n",
    "import zipfile\n",
    "import os\n",
    "\n",
    "from sklearn.feature_extraction import DictVectorizer"
   ]
  },
  {
   "cell_type": "markdown",
   "metadata": {},
   "source": [
    "## Loading the Data\n",
    "\n",
    "Load the CSV data to a Pandas DataFrame."
   ]
  },
  {
   "cell_type": "code",
   "execution_count": 28,
   "metadata": {},
   "outputs": [],
   "source": [
    "mails = pd.read_csv(\"../Data/emails.csv\")"
   ]
  },
  {
   "cell_type": "markdown",
   "metadata": {},
   "source": [
    "## Text Preprocessing\n",
    "\n",
    "Using an English NLP model, tokenise the sentences for each mail. Then, apply some rules to make the data workable. These include:\n",
    "\n",
    "* Tokenisation\n",
    "1. Lowercasing\n",
    "2. Stop word removal\n",
    "3. Special character removal\n",
    "4. Lemmatisation"
   ]
  },
  {
   "cell_type": "markdown",
   "metadata": {},
   "source": [
    "Apply tokenisation."
   ]
  },
  {
   "cell_type": "code",
   "execution_count": 29,
   "metadata": {},
   "outputs": [],
   "source": [
    "mails['tokenised_text'] = mails['text'].apply(tokenize_sentence)"
   ]
  },
  {
   "cell_type": "code",
   "execution_count": 30,
   "metadata": {},
   "outputs": [
    {
     "data": {
      "text/plain": [
       "0    [subject, naturally, irresistible, corporate, ...\n",
       "1    [subject, stock, trading, gunslinger, fanny, m...\n",
       "2    [subject, unbelievable, new, home, easy, m, wa...\n",
       "3    [subject, 4, color, printing, special, request...\n",
       "4    [subject, money, software, cd, software, compa...\n",
       "Name: tokenised_text, dtype: object"
      ]
     },
     "execution_count": 30,
     "metadata": {},
     "output_type": "execute_result"
    }
   ],
   "source": [
    "mails['tokenised_text'].head()"
   ]
  },
  {
   "cell_type": "markdown",
   "metadata": {},
   "source": [
    "## Feature Modelling\n",
    "\n",
    "Transforming the text into numerical format and vectorising them"
   ]
  },
  {
   "cell_type": "markdown",
   "metadata": {},
   "source": [
    "### TF-IDF\n",
    "TF-IDF considers the frequency of the word in the sentence in relation to the frequency in the corpus, helping to diminish the importance of frequently occurring words in the dataset."
   ]
  },
  {
   "cell_type": "code",
   "execution_count": 31,
   "metadata": {},
   "outputs": [],
   "source": [
    "# Calculate term frequency\n",
    "tf = term_frequency(mails[\"tokenised_text\"])\n",
    "# Calculate inverse documnet frequency\n",
    "idf = inverse_document_frequency(mails[\"tokenised_text\"])\n",
    "# Calculate tf.idf\n",
    "tfidf = tfidf_calculator(tf,idf)\n",
    "\n",
    "# Vectorize the tfidf matrix\n",
    "vectorizer = DictVectorizer(sparse=False)\n",
    "X_tfidf = vectorizer.fit_transform(tfidf)"
   ]
  },
  {
   "cell_type": "markdown",
   "metadata": {},
   "source": [
    "Because there are too many features (16908 without reducing), reducing the number of columns is a necessity. We have accomplished this by selecting the top 10% features using the word scores."
   ]
  },
  {
   "cell_type": "code",
   "execution_count": 32,
   "metadata": {},
   "outputs": [],
   "source": [
    "# Aggregate TF-IDF Scores\n",
    "word_scores = np.sum(X_tfidf, axis=0)\n",
    "\n",
    "# Sort and Select Top N Features\n",
    "n = X_tfidf.shape[1] // 10\n",
    "top_indices = np.argsort(word_scores)[::-1][:n]\n",
    "\n",
    "# Create a new reduced TF-IDF matrix with only top features\n",
    "tfidf_matrix = X_tfidf[:, top_indices]"
   ]
  },
  {
   "cell_type": "code",
   "execution_count": 33,
   "metadata": {},
   "outputs": [],
   "source": [
    "tfidf_matrix = X_tfidf"
   ]
  },
  {
   "cell_type": "code",
   "execution_count": 34,
   "metadata": {},
   "outputs": [
    {
     "name": "stdout",
     "output_type": "stream",
     "text": [
      "Number of mails: 5728, Number of unique words: 16908\n"
     ]
    }
   ],
   "source": [
    "tfidf_matrix = np.concatenate([tfidf_matrix, mails[\"spam\"].to_numpy().reshape(-1,1)], axis = 1)\n",
    "\n",
    "# Shuffle the matrix to create train test and validation data\n",
    "np.random.shuffle(tfidf_matrix)\n",
    "\n",
    "print(f\"Number of mails: {tfidf_matrix.shape[0]}, Number of unique words: {tfidf_matrix.shape[1]}\")"
   ]
  },
  {
   "cell_type": "markdown",
   "metadata": {},
   "source": [
    "## Save data\n",
    "\n",
    "Zip the data since data is too large"
   ]
  },
  {
   "cell_type": "code",
   "execution_count": 35,
   "metadata": {},
   "outputs": [],
   "source": [
    "# Parameters\n",
    "train_size = 0.6\n",
    "test_size = 0.2\n",
    "validation_size = 0.2\n",
    "\n",
    "if train_size + test_size + validation_size != 1:\n",
    "    raise ValueError(\"Train, test and validation size should add up to 1\")"
   ]
  },
  {
   "cell_type": "code",
   "execution_count": 37,
   "metadata": {},
   "outputs": [],
   "source": [
    "file_path = \"../Data/data\"\n",
    "\n",
    "# Write data to .npy files\n",
    "np.save(file_path, tfidf_matrix)\n",
    "np.save(file_path + \"_train\" , tfidf_matrix[:int(tfidf_matrix.shape[0]*train_size)])\n",
    "np.save(file_path + \"_test\", tfidf_matrix[int(tfidf_matrix.shape[0]*train_size): int(tfidf_matrix.shape[0]*(train_size+test_size))])\n",
    "np.save(file_path + \"_validation\", tfidf_matrix[int(tfidf_matrix.shape[0]*(train_size+test_size)):])\n",
    "\n",
    "\n",
    "# Zip the .npy files\n",
    "with zipfile.ZipFile(file_path + \".zip\", 'w', zipfile.ZIP_DEFLATED) as zipf:\n",
    "    zipf.write(file_path + \".npy\", arcname=os.path.basename(file_path + \".npy\"))\n",
    "    zipf.write(file_path + \"_train.npy\", arcname=os.path.basename(file_path + \"_train.npy\"))\n",
    "    zipf.write(file_path + \"_test.npy\", arcname=os.path.basename(file_path + \"_test.npy\"))\n",
    "    zipf.write(file_path + \"_validation.npy\", arcname=os.path.basename(file_path + \"_validation.npy\"))\n",
    "\n",
    "# Delete large .npy files and folders\n",
    "os.remove(file_path + \".npy\")\n",
    "os.remove(file_path + \"_train.npy\")\n",
    "os.remove(file_path + \"_test.npy\")\n",
    "os.remove(file_path + \"_validation.npy\")"
   ]
  }
 ],
 "metadata": {
  "kernelspec": {
   "display_name": "Python 3",
   "language": "python",
   "name": "python3"
  },
  "language_info": {
   "codemirror_mode": {
    "name": "ipython",
    "version": 3
   },
   "file_extension": ".py",
   "mimetype": "text/x-python",
   "name": "python",
   "nbconvert_exporter": "python",
   "pygments_lexer": "ipython3",
   "version": "3.10.4"
  }
 },
 "nbformat": 4,
 "nbformat_minor": 2
}
